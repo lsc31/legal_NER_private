{
 "cells": [
  {
   "cell_type": "code",
   "execution_count": 1,
   "id": "adb7a1ea",
   "metadata": {},
   "outputs": [],
   "source": [
    "import spacy\n",
    "from data_preparation import get_text_from_indiankanoon_url\n",
    "from spacy import displacy\n",
    "from legal_ner import extract_entities_from_judgment_text\n",
    "\n"
   ]
  },
  {
   "cell_type": "code",
   "execution_count": null,
   "id": "0608cd2b",
   "metadata": {},
   "outputs": [],
   "source": []
  },
  {
   "cell_type": "code",
   "execution_count": null,
   "id": "2739990a",
   "metadata": {},
   "outputs": [],
   "source": [
    "legal_nlp=spacy.load('en_legal_ner_trf')\n"
   ]
  },
  {
   "cell_type": "code",
   "execution_count": 2,
   "id": "9d0f4c39",
   "metadata": {},
   "outputs": [],
   "source": [
    "judgment_text = get_text_from_indiankanoon_url('https://indiankanoon.org/doc/542273/')"
   ]
  },
  {
   "cell_type": "code",
   "execution_count": 3,
   "id": "288b5677",
   "metadata": {},
   "outputs": [
    {
     "ename": "NameError",
     "evalue": "name 'legal_nlp' is not defined",
     "output_type": "error",
     "traceback": [
      "\u001b[0;31m---------------------------------------------------------------------------\u001b[0m",
      "\u001b[0;31mNameError\u001b[0m                                 Traceback (most recent call last)",
      "\u001b[0;32m/var/folders/pb/mwf_42056317rfgvk6y3t0t40000gn/T/ipykernel_1082/2781472993.py\u001b[0m in \u001b[0;36m<module>\u001b[0;34m\u001b[0m\n\u001b[1;32m      2\u001b[0m \u001b[0mrun_type\u001b[0m\u001b[0;34m=\u001b[0m\u001b[0;34m'doc'\u001b[0m \u001b[0;31m###  trade off between accuracy and runtime\u001b[0m\u001b[0;34m\u001b[0m\u001b[0;34m\u001b[0m\u001b[0m\n\u001b[1;32m      3\u001b[0m \u001b[0mdo_postprocess\u001b[0m\u001b[0;34m=\u001b[0m\u001b[0;32mTrue\u001b[0m\u001b[0;34m\u001b[0m\u001b[0;34m\u001b[0m\u001b[0m\n\u001b[0;32m----> 4\u001b[0;31m \u001b[0mcombined_doc\u001b[0m \u001b[0;34m=\u001b[0m \u001b[0mextract_entities_from_judgment_text\u001b[0m\u001b[0;34m(\u001b[0m\u001b[0mjudgment_text\u001b[0m\u001b[0;34m,\u001b[0m\u001b[0mlegal_nlp\u001b[0m\u001b[0;34m,\u001b[0m\u001b[0mpreamble_spiltting_nlp\u001b[0m\u001b[0;34m,\u001b[0m\u001b[0mrun_type\u001b[0m\u001b[0;34m,\u001b[0m\u001b[0mdo_postprocess\u001b[0m\u001b[0;34m)\u001b[0m\u001b[0;34m\u001b[0m\u001b[0;34m\u001b[0m\u001b[0m\n\u001b[0m",
      "\u001b[0;31mNameError\u001b[0m: name 'legal_nlp' is not defined"
     ]
    }
   ],
   "source": [
    "preamble_spiltting_nlp = spacy.load('en_core_web_sm')\n",
    "run_type='doc' ###  trade off between accuracy and runtime\n",
    "do_postprocess=True \n",
    "combined_doc = extract_entities_from_judgment_text(judgment_text,legal_nlp,preamble_spiltting_nlp,run_type,do_postprocess)\n"
   ]
  },
  {
   "cell_type": "code",
   "execution_count": null,
   "id": "a146a565",
   "metadata": {},
   "outputs": [],
   "source": []
  }
 ],
 "metadata": {
  "kernelspec": {
   "display_name": "Python 3 (ipykernel)",
   "language": "python",
   "name": "python3"
  },
  "language_info": {
   "codemirror_mode": {
    "name": "ipython",
    "version": 3
   },
   "file_extension": ".py",
   "mimetype": "text/x-python",
   "name": "python",
   "nbconvert_exporter": "python",
   "pygments_lexer": "ipython3",
   "version": "3.9.13"
  }
 },
 "nbformat": 4,
 "nbformat_minor": 5
}
